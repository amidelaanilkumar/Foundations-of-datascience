{
  "nbformat": 4,
  "nbformat_minor": 0,
  "metadata": {
    "colab": {
      "provenance": []
    },
    "kernelspec": {
      "name": "python3",
      "display_name": "Python 3"
    },
    "language_info": {
      "name": "python"
    }
  },
  "cells": [
    {
      "cell_type": "code",
      "source": [
        "import pandas as pd \n",
        "import numpy as np\n",
        "import matplotlib.pyplot as plt\n",
        "%matplotlib inline\n",
        "import seaborn as sns\n",
        "import scipy.stats as st"
      ],
      "metadata": {
        "id": "5ZxBoIQ0OSFP"
      },
      "execution_count": 8,
      "outputs": []
    },
    {
      "cell_type": "markdown",
      "source": [
        "# PART-A"
      ],
      "metadata": {
        "id": "mfm-IfJqJPZ3"
      }
    },
    {
      "cell_type": "markdown",
      "source": [
        "# **1. State the Null and Alternative Hypothesis (2)**"
      ],
      "metadata": {
        "id": "9OyzBS1CJS0S"
      }
    },
    {
      "cell_type": "markdown",
      "source": [
        "75% of 929 plants is 696.75\n",
        "\n",
        "NULL hypothesis: 75% of flowers are Purple flowers for every plant (#H0 : μ = 75%)\n",
        "\n",
        "\n",
        "ALTERNATIVE hypothesis:purple flowers are not 75% of total (Ha : μ != 75%)) i.e model is not valid"
      ],
      "metadata": {
        "id": "5VpElbtgLDDw"
      }
    },
    {
      "cell_type": "code",
      "source": [
        "total_flowers=929\n",
        "purple_flowers=711\n",
        "white_flowers=218"
      ],
      "metadata": {
        "id": "GlR5G-YYPe6d"
      },
      "execution_count": 9,
      "outputs": []
    },
    {
      "cell_type": "markdown",
      "source": [
        " statistic for this hypothesis testing is the difference between 0.75 and the observed *mean* of purple-flowering plants."
      ],
      "metadata": {
        "id": "6Oke-WNpTycl"
      }
    },
    {
      "cell_type": "code",
      "source": [
        "observed_mean=purple_flowers/total_flowers\n",
        "observed_mean"
      ],
      "metadata": {
        "colab": {
          "base_uri": "https://localhost:8080/"
        },
        "id": "9dXlZuQcPulf",
        "outputId": "3ae12e8b-42ad-4ea8-d01d-3bee14b1c2c9"
      },
      "execution_count": 10,
      "outputs": [
        {
          "output_type": "execute_result",
          "data": {
            "text/plain": [
              "0.7653390742734123"
            ]
          },
          "metadata": {},
          "execution_count": 10
        }
      ]
    },
    {
      "cell_type": "markdown",
      "source": [
        "State the observed *statistic*"
      ],
      "metadata": {
        "id": "O3WSuz0RUXXT"
      }
    },
    {
      "cell_type": "code",
      "source": [
        "observed_stat = abs(observed_mean - 0.75)\n",
        "observed_stat"
      ],
      "metadata": {
        "colab": {
          "base_uri": "https://localhost:8080/"
        },
        "id": "A28yADulR2VG",
        "outputId": "7fc3532f-f57e-4e9b-fecd-3d47f02a5da5"
      },
      "execution_count": 16,
      "outputs": [
        {
          "output_type": "execute_result",
          "data": {
            "text/plain": [
              "0.015339074273412301"
            ]
          },
          "metadata": {},
          "execution_count": 16
        }
      ]
    },
    {
      "cell_type": "markdown",
      "source": [
        "Simulate the test statistic under the Null that will help make the decision(5). The number\n",
        "of simulations should be equal to (2000 - “Last 3 digits of your Roll Number”).\n"
      ],
      "metadata": {
        "id": "BN-2F8zeUbaX"
      }
    },
    {
      "cell_type": "code",
      "source": [
        "import numpy.random as npr\n",
        "\n",
        "stimulations = 1794\n",
        "\n",
        "for i in range(stimulations):\n",
        "    ans = npr.binomial(total_flowers, 0.75, stimulations)\n",
        "    \n",
        "ans"
      ],
      "metadata": {
        "colab": {
          "base_uri": "https://localhost:8080/"
        },
        "id": "iULLgP7xQs2p",
        "outputId": "111044d8-13c0-4591-a101-390bc94d4660"
      },
      "execution_count": 11,
      "outputs": [
        {
          "output_type": "execute_result",
          "data": {
            "text/plain": [
              "array([701, 698, 691, ..., 690, 709, 688])"
            ]
          },
          "metadata": {},
          "execution_count": 11
        }
      ]
    },
    {
      "cell_type": "code",
      "source": [
        "df = pd.DataFrame(ans, columns =['Count'])\n",
        "\n",
        "df['sampled']= (df['Count'] / total_flowers)\n",
        "df = df.set_index('Count')\n",
        "df['how far 0.75'] = abs(df['sampled'] - 0.75)\n",
        "\n",
        "df"
      ],
      "metadata": {
        "colab": {
          "base_uri": "https://localhost:8080/",
          "height": 455
        },
        "id": "IYqAQ6VGRHL3",
        "outputId": "d90482fe-e1a4-4e4b-bc52-426805c3aa4a"
      },
      "execution_count": 12,
      "outputs": [
        {
          "output_type": "execute_result",
          "data": {
            "text/plain": [
              "        sampled  how far 0.75\n",
              "Count                        \n",
              "701    0.754575      0.004575\n",
              "698    0.751346      0.001346\n",
              "691    0.743811      0.006189\n",
              "697    0.750269      0.000269\n",
              "711    0.765339      0.015339\n",
              "...         ...           ...\n",
              "682    0.734123      0.015877\n",
              "710    0.764263      0.014263\n",
              "690    0.742734      0.007266\n",
              "709    0.763186      0.013186\n",
              "688    0.740581      0.009419\n",
              "\n",
              "[1794 rows x 2 columns]"
            ],
            "text/html": [
              "\n",
              "  <div id=\"df-40f28401-f2eb-4153-b6c1-6842eca08035\">\n",
              "    <div class=\"colab-df-container\">\n",
              "      <div>\n",
              "<style scoped>\n",
              "    .dataframe tbody tr th:only-of-type {\n",
              "        vertical-align: middle;\n",
              "    }\n",
              "\n",
              "    .dataframe tbody tr th {\n",
              "        vertical-align: top;\n",
              "    }\n",
              "\n",
              "    .dataframe thead th {\n",
              "        text-align: right;\n",
              "    }\n",
              "</style>\n",
              "<table border=\"1\" class=\"dataframe\">\n",
              "  <thead>\n",
              "    <tr style=\"text-align: right;\">\n",
              "      <th></th>\n",
              "      <th>sampled</th>\n",
              "      <th>how far 0.75</th>\n",
              "    </tr>\n",
              "    <tr>\n",
              "      <th>Count</th>\n",
              "      <th></th>\n",
              "      <th></th>\n",
              "    </tr>\n",
              "  </thead>\n",
              "  <tbody>\n",
              "    <tr>\n",
              "      <th>701</th>\n",
              "      <td>0.754575</td>\n",
              "      <td>0.004575</td>\n",
              "    </tr>\n",
              "    <tr>\n",
              "      <th>698</th>\n",
              "      <td>0.751346</td>\n",
              "      <td>0.001346</td>\n",
              "    </tr>\n",
              "    <tr>\n",
              "      <th>691</th>\n",
              "      <td>0.743811</td>\n",
              "      <td>0.006189</td>\n",
              "    </tr>\n",
              "    <tr>\n",
              "      <th>697</th>\n",
              "      <td>0.750269</td>\n",
              "      <td>0.000269</td>\n",
              "    </tr>\n",
              "    <tr>\n",
              "      <th>711</th>\n",
              "      <td>0.765339</td>\n",
              "      <td>0.015339</td>\n",
              "    </tr>\n",
              "    <tr>\n",
              "      <th>...</th>\n",
              "      <td>...</td>\n",
              "      <td>...</td>\n",
              "    </tr>\n",
              "    <tr>\n",
              "      <th>682</th>\n",
              "      <td>0.734123</td>\n",
              "      <td>0.015877</td>\n",
              "    </tr>\n",
              "    <tr>\n",
              "      <th>710</th>\n",
              "      <td>0.764263</td>\n",
              "      <td>0.014263</td>\n",
              "    </tr>\n",
              "    <tr>\n",
              "      <th>690</th>\n",
              "      <td>0.742734</td>\n",
              "      <td>0.007266</td>\n",
              "    </tr>\n",
              "    <tr>\n",
              "      <th>709</th>\n",
              "      <td>0.763186</td>\n",
              "      <td>0.013186</td>\n",
              "    </tr>\n",
              "    <tr>\n",
              "      <th>688</th>\n",
              "      <td>0.740581</td>\n",
              "      <td>0.009419</td>\n",
              "    </tr>\n",
              "  </tbody>\n",
              "</table>\n",
              "<p>1794 rows × 2 columns</p>\n",
              "</div>\n",
              "      <button class=\"colab-df-convert\" onclick=\"convertToInteractive('df-40f28401-f2eb-4153-b6c1-6842eca08035')\"\n",
              "              title=\"Convert this dataframe to an interactive table.\"\n",
              "              style=\"display:none;\">\n",
              "        \n",
              "  <svg xmlns=\"http://www.w3.org/2000/svg\" height=\"24px\"viewBox=\"0 0 24 24\"\n",
              "       width=\"24px\">\n",
              "    <path d=\"M0 0h24v24H0V0z\" fill=\"none\"/>\n",
              "    <path d=\"M18.56 5.44l.94 2.06.94-2.06 2.06-.94-2.06-.94-.94-2.06-.94 2.06-2.06.94zm-11 1L8.5 8.5l.94-2.06 2.06-.94-2.06-.94L8.5 2.5l-.94 2.06-2.06.94zm10 10l.94 2.06.94-2.06 2.06-.94-2.06-.94-.94-2.06-.94 2.06-2.06.94z\"/><path d=\"M17.41 7.96l-1.37-1.37c-.4-.4-.92-.59-1.43-.59-.52 0-1.04.2-1.43.59L10.3 9.45l-7.72 7.72c-.78.78-.78 2.05 0 2.83L4 21.41c.39.39.9.59 1.41.59.51 0 1.02-.2 1.41-.59l7.78-7.78 2.81-2.81c.8-.78.8-2.07 0-2.86zM5.41 20L4 18.59l7.72-7.72 1.47 1.35L5.41 20z\"/>\n",
              "  </svg>\n",
              "      </button>\n",
              "      \n",
              "  <style>\n",
              "    .colab-df-container {\n",
              "      display:flex;\n",
              "      flex-wrap:wrap;\n",
              "      gap: 12px;\n",
              "    }\n",
              "\n",
              "    .colab-df-convert {\n",
              "      background-color: #E8F0FE;\n",
              "      border: none;\n",
              "      border-radius: 50%;\n",
              "      cursor: pointer;\n",
              "      display: none;\n",
              "      fill: #1967D2;\n",
              "      height: 32px;\n",
              "      padding: 0 0 0 0;\n",
              "      width: 32px;\n",
              "    }\n",
              "\n",
              "    .colab-df-convert:hover {\n",
              "      background-color: #E2EBFA;\n",
              "      box-shadow: 0px 1px 2px rgba(60, 64, 67, 0.3), 0px 1px 3px 1px rgba(60, 64, 67, 0.15);\n",
              "      fill: #174EA6;\n",
              "    }\n",
              "\n",
              "    [theme=dark] .colab-df-convert {\n",
              "      background-color: #3B4455;\n",
              "      fill: #D2E3FC;\n",
              "    }\n",
              "\n",
              "    [theme=dark] .colab-df-convert:hover {\n",
              "      background-color: #434B5C;\n",
              "      box-shadow: 0px 1px 3px 1px rgba(0, 0, 0, 0.15);\n",
              "      filter: drop-shadow(0px 1px 2px rgba(0, 0, 0, 0.3));\n",
              "      fill: #FFFFFF;\n",
              "    }\n",
              "  </style>\n",
              "\n",
              "      <script>\n",
              "        const buttonEl =\n",
              "          document.querySelector('#df-40f28401-f2eb-4153-b6c1-6842eca08035 button.colab-df-convert');\n",
              "        buttonEl.style.display =\n",
              "          google.colab.kernel.accessAllowed ? 'block' : 'none';\n",
              "\n",
              "        async function convertToInteractive(key) {\n",
              "          const element = document.querySelector('#df-40f28401-f2eb-4153-b6c1-6842eca08035');\n",
              "          const dataTable =\n",
              "            await google.colab.kernel.invokeFunction('convertToInteractive',\n",
              "                                                     [key], {});\n",
              "          if (!dataTable) return;\n",
              "\n",
              "          const docLinkHtml = 'Like what you see? Visit the ' +\n",
              "            '<a target=\"_blank\" href=https://colab.research.google.com/notebooks/data_table.ipynb>data table notebook</a>'\n",
              "            + ' to learn more about interactive tables.';\n",
              "          element.innerHTML = '';\n",
              "          dataTable['output_type'] = 'display_data';\n",
              "          await google.colab.output.renderOutput(dataTable, element);\n",
              "          const docLink = document.createElement('div');\n",
              "          docLink.innerHTML = docLinkHtml;\n",
              "          element.appendChild(docLink);\n",
              "        }\n",
              "      </script>\n",
              "    </div>\n",
              "  </div>\n",
              "  "
            ]
          },
          "metadata": {},
          "execution_count": 12
        }
      ]
    },
    {
      "cell_type": "markdown",
      "source": [
        "Draw a histogram to depict what the model of random selection predicts about the\n",
        "statistic"
      ],
      "metadata": {
        "id": "pmaVNlaAUfb6"
      }
    },
    {
      "cell_type": "code",
      "source": [
        "import matplotlib.pyplot as plt\n",
        "\n",
        "plt.figure()\n",
        "plt.hist(df['how far 0.75'])\n",
        "plt.axvline(x = observed_stat, color = 'red')\n",
        "plt.title(' distribution')\n",
        "plt.xlabel('Distance from 0.75')\n",
        "plt.ylabel('Percent ')\n",
        "plt.grid()\n",
        "plt.show()"
      ],
      "metadata": {
        "colab": {
          "base_uri": "https://localhost:8080/",
          "height": 295
        },
        "id": "SLIRVIOFRh_Z",
        "outputId": "056c44c1-f9c6-4666-df2b-cdfc9d6242aa"
      },
      "execution_count": 19,
      "outputs": [
        {
          "output_type": "display_data",
          "data": {
            "text/plain": [
              "<Figure size 432x288 with 1 Axes>"
            ],
            "image/png": "[encoded data removed]"
          },
          "metadata": {
            "needs_background": "light"
          }
        }
      ]
    },
    {
      "cell_type": "markdown",
      "source": [
        "Outcome of your analysis: The observed value of the statistic, based on Mendel's data, is 0.015339074273412301 which is just under 0.02. That's right of this distribution\n",
        "**WE ARE NOT REJECTING THE NULL HYPOTHESIS**\n",
        "\n",
        "\n",
        "\n",
        "Mendel Model is correct"
      ],
      "metadata": {
        "id": "H4T-j0LISI1l"
      }
    },
    {
      "cell_type": "markdown",
      "source": [
        "# PART-B"
      ],
      "metadata": {
        "id": "y2TCy5tBIQDA"
      }
    },
    {
      "cell_type": "markdown",
      "source": [
        "Carry out a hypothesis test for “mean” of a population. The population standard deviation is\n",
        "13.46, and the test is for a “mean” different from 60. Given: a sample size of 30, with “sample\n",
        "mean” 65.10. Consider alpha = 0.05. Demonstrate your solution using either the critical-value or\n",
        "p-value method."
      ],
      "metadata": {
        "id": "_-uSJHX_IV-q"
      }
    },
    {
      "cell_type": "code",
      "execution_count": 3,
      "metadata": {
        "id": "7JtKWh4aFi7m"
      },
      "outputs": [],
      "source": [
        "import numpy as np\n",
        "import scipy.stats as st"
      ]
    },
    {
      "cell_type": "code",
      "source": [
        "#H0 : μ = 60 and Ha : μ != 60\n",
        "n = 30\n",
        "xbar = 65.10\n",
        "mu = 60\n",
        "sigma = 13.46\n",
        "alpha = 0.05"
      ],
      "metadata": {
        "id": "DsFDNt5TzkIp"
      },
      "execution_count": 4,
      "outputs": []
    },
    {
      "cell_type": "code",
      "source": [
        "z = (xbar-mu)/(sigma/np.sqrt(n))\n",
        "z"
      ],
      "metadata": {
        "colab": {
          "base_uri": "https://localhost:8080/"
        },
        "id": "RahYBt2hzqLv",
        "outputId": "80db025f-b2fe-401d-89dd-f9d76194b57c"
      },
      "execution_count": 5,
      "outputs": [
        {
          "output_type": "execute_result",
          "data": {
            "text/plain": [
              "2.075323211943792"
            ]
          },
          "metadata": {},
          "execution_count": 5
        }
      ]
    },
    {
      "cell_type": "code",
      "source": [
        "p_val = (1 - st.norm.cdf(abs(z))) * 2\n",
        "p_val"
      ],
      "metadata": {
        "colab": {
          "base_uri": "https://localhost:8080/"
        },
        "id": "KCwxyJDAzsRL",
        "outputId": "42c7785e-2e94-4c1f-a986-b48a58d72ae8"
      },
      "execution_count": 6,
      "outputs": [
        {
          "output_type": "execute_result",
          "data": {
            "text/plain": [
              "0.03795658956990633"
            ]
          },
          "metadata": {},
          "execution_count": 6
        }
      ]
    },
    {
      "cell_type": "code",
      "source": [
        "if (p_val > alpha):\n",
        "    print(\"Null hypothesis cannot be rejected\")\n",
        "else:\n",
        "    print(\"Reject null hypothesis\")"
      ],
      "metadata": {
        "colab": {
          "base_uri": "https://localhost:8080/"
        },
        "id": "ZBNOAU3Rzumd",
        "outputId": "b02f5014-c2f5-4135-dc71-6fc7c52e4d6a"
      },
      "execution_count": 7,
      "outputs": [
        {
          "output_type": "stream",
          "name": "stdout",
          "text": [
            "Reject null hypothesis\n"
          ]
        }
      ]
    }
  ]
}