{
  "nbformat": 4,
  "nbformat_minor": 0,
  "metadata": {
    "colab": {
      "provenance": [],
      "collapsed_sections": []
    },
    "kernelspec": {
      "name": "python3",
      "display_name": "Python 3"
    },
    "language_info": {
      "name": "python"
    }
  },
  "cells": [
    {
      "cell_type": "markdown",
      "source": [
        "Generate a tuple from the set [\"aman\", \"222\", 777, 400.4] \n",
        "\n",
        "Create a dictionary of your basic data: (a) Roll No (b) Last Name (c) First Name (d) Date of birth. Print out the values and keys. \n",
        "\n",
        "Use rand function to generate a 2-dimensional random array with seed. \n",
        "\n",
        "Generate a single random number in [0.0, 1.0]. Find the absolute value of (-1234) \n",
        "\n",
        "Return a random integer N such that 20 <= N <= 90.  \n",
        "\n",
        "Given a population or set[11, 12, 13,14, 15] \n",
        "\n",
        "Return a 3 length list of unique elements without replacement. \n",
        "\n",
        "Shuffle the above set \n",
        "\n",
        "Print a random number from the set \n",
        "\n",
        "Write the text \"The King is Dead, Long Live The King\" on to a file in your hard drive; read and print the text. \n",
        "\n",
        "Create an illustrative function to demonstrate use of: if, elif and else (b) for, while, break and continue. \n",
        "\n",
        "Given a string \"The King is Dead, Long Live The King\"  \n",
        "\n",
        "Print the complete string \n",
        "\n",
        "Print first character of the string \n",
        "\n",
        "Print characters starting from 3rd to 5th \n",
        "\n",
        "Print string starting from 3rd character \n",
        "\n",
        "Split the words \n",
        "\n",
        "An array can be created from a list:  Create an array from a list comprising of numbers 1,4,5,8 (treat them as floats).Slice the above array to display first and second elements \n",
        "\n",
        "Arrays can be multidimensional. Create a two-dimensional array of (1,2,3) and (4,5,6). \n",
        "\n",
        "Array slicing works with multiple dimensions in the same way as usual, applying each slice specification as a filter to a specified dimension. Consider two-dimensional array of (1,2,3) and (4,5,6). \n",
        "\n",
        "Slice and display the 2nd row. \n",
        "\n",
        "Write code to display as array([2., 5.])  \n",
        "\n",
        "Find the length of the array. \n",
        "\n",
        "Arrays can be reshaped using tuples that specify new dimensions. Turn a ten-element one-dimensional array into a two-dimensional one whose first axis has five elements and whose second axis has two elements. Obtain the transpose of the array \n",
        "\n",
        "Create an array from a list of 1,2 and 3. \n",
        "\n",
        "Fill an array [1,2,3] with a single value [9,9,9].  \n",
        "\n",
        "Sum the elements of array [2,4,5]. \n",
        "\n",
        "Give the products of array [77,74,75] \n",
        "\n",
        "Given an array [2,1,9,1,2,22,1,1,4,55,6,2,56]. Find mean, variance, max, min, argmin, median, argmax and standard deviation. \n",
        "\n",
        "Extract unique elements from an array: [1, 1, 4, 5, 5, 5, 7] and sort it. \n",
        "\n",
        "Find dot product of two arrays [1, 2, 3]and [0, 1, 1].  \n",
        "\n",
        "Find the eigenvalues and eigenvectors of matrix A. \n",
        "\n",
        " \n",
        "\n",
        "## Given an array with [11, 22, 11, 31], [25, 33, 31, 28]]. Treat as floats. Find the correlation coefficients."
      ],
      "metadata": {
        "id": "I-jZ2V3Fu9YB"
      }
    },
    {
      "cell_type": "code",
      "execution_count": null,
      "metadata": {
        "colab": {
          "base_uri": "https://localhost:8080/"
        },
        "id": "k9ZurSFCC2YW",
        "outputId": "0cc46f11-bb49-4024-ab39-a7cbe91e583b"
      },
      "outputs": [
        {
          "output_type": "stream",
          "name": "stdout",
          "text": [
            "('aman', '222', 777, 400.4)\n"
          ]
        }
      ],
      "source": [
        "#1\n",
        "list1=[\"aman\",\"222\",777,400.4]\n",
        "tup=tuple(list1)\n",
        "print(tup)"
      ]
    },
    {
      "cell_type": "code",
      "source": [
        "#2\n",
        "info={'Roll no':'CB.EN.U4CSE20206','First Name':'AMIDELA ANIL KUMAR','DOB':'XX/XX/XXXX'}\n",
        "for key,value in info.items():\n",
        "  print(key,':',value)"
      ],
      "metadata": {
        "colab": {
          "base_uri": "https://localhost:8080/"
        },
        "id": "mAZUIuVxDcbg",
        "outputId": "70d598ac-d872-4327-cee0-dcd12361d79c"
      },
      "execution_count": 2,
      "outputs": [
        {
          "output_type": "stream",
          "name": "stdout",
          "text": [
            "Roll no : CB.EN.U4CSE20206\n",
            "First Name : AMIDELA ANIL KUMAR\n",
            "DOB : XX/XX/XXXX\n"
          ]
        }
      ]
    },
    {
      "cell_type": "code",
      "source": [
        "#3\n",
        "import numpy as np\n",
        "np.random.seed(0)\n",
        "arr=np.random.randint(0,50,size=(2,5))\n",
        "print(arr)"
      ],
      "metadata": {
        "colab": {
          "base_uri": "https://localhost:8080/"
        },
        "id": "oce5JXFqElBD",
        "outputId": "001ac33b-74ba-4583-a476-1d04d5f8e2da"
      },
      "execution_count": null,
      "outputs": [
        {
          "output_type": "stream",
          "name": "stdout",
          "text": [
            "[[44 47  0  3  3]\n",
            " [39  9 19 21 36]]\n"
          ]
        }
      ]
    },
    {
      "cell_type": "code",
      "source": [
        "#4\n",
        "x=np.random.uniform(0.0,1.0)\n",
        "print(x)\n",
        "print(abs(-1234))"
      ],
      "metadata": {
        "colab": {
          "base_uri": "https://localhost:8080/"
        },
        "id": "eJ2O3kAvFG4v",
        "outputId": "60a8eeb9-2f4c-4abc-ad08-dfdc5f6a0b7c"
      },
      "execution_count": null,
      "outputs": [
        {
          "output_type": "stream",
          "name": "stdout",
          "text": [
            "0.2975346065444723\n",
            "1234\n"
          ]
        }
      ]
    },
    {
      "cell_type": "code",
      "source": [
        "#5\n",
        "x=np.random.randint(20,91)\n",
        "print(x)"
      ],
      "metadata": {
        "colab": {
          "base_uri": "https://localhost:8080/"
        },
        "id": "ISvjqGmcG__7",
        "outputId": "33f1046e-8dec-4f2e-8ff8-28b384a1cea9"
      },
      "execution_count": null,
      "outputs": [
        {
          "output_type": "stream",
          "name": "stdout",
          "text": [
            "57\n"
          ]
        }
      ]
    },
    {
      "cell_type": "code",
      "source": [
        "#6\n",
        "import numpy as np\n",
        "def retlist(list1):\n",
        "  return list1[0:3]\n",
        "list1=[11,12,13,14,15]\n",
        "newlist=retlist(list1)\n",
        "print(newlist)\n",
        "np.random.shuffle(newlist)\n",
        "print(newlist)\n",
        "print(np.random.choice(list1))"
      ],
      "metadata": {
        "colab": {
          "base_uri": "https://localhost:8080/"
        },
        "id": "Ac78VGlxG_7K",
        "outputId": "d6803d02-6723-4b34-e37b-06714b70a0d0"
      },
      "execution_count": 11,
      "outputs": [
        {
          "output_type": "stream",
          "name": "stdout",
          "text": [
            "[11, 12, 13]\n",
            "[13, 11, 12]\n",
            "13\n"
          ]
        }
      ]
    },
    {
      "cell_type": "code",
      "source": [
        "#7\n"
      ],
      "metadata": {
        "id": "tHKPW5GVKVJk"
      },
      "execution_count": null,
      "outputs": []
    },
    {
      "cell_type": "code",
      "source": [
        "#8\n",
        "def check(x):\n",
        "  if x>0:\n",
        "    print(\"If case,x is positive\")\n",
        "  elif x<0:\n",
        "    print(\"Elif case,x is negetive\")\n",
        "  else:\n",
        "    print(\"Else case,x is zero\")\n",
        "check(5)\n",
        "check(-5)\n",
        "check(0)\n",
        "x=0\n",
        "print(\"while\")\n",
        "while(x<10):\n",
        "  x+=1\n",
        "  if x==5:\n",
        "    print(\"Continue when x =5\")\n",
        "    continue\n",
        "  if x==9:\n",
        "    print(\"break when x=9\")\n",
        "    break\n",
        "  print(x)\n",
        "print(\" loop\")\n",
        "\n",
        "for i in range(10,20):\n",
        "  if i==15:\n",
        "    print(\"Continue when i=15\")\n",
        "    continue\n",
        "  if i==18:\n",
        "    print(\"break when i=18\")\n",
        "    break\n",
        "  print(i)"
      ],
      "metadata": {
        "colab": {
          "base_uri": "https://localhost:8080/"
        },
        "id": "1aQKXh7eLW40",
        "outputId": "84073425-ad85-4800-f2e7-12d596fefce9"
      },
      "execution_count": 6,
      "outputs": [
        {
          "output_type": "stream",
          "name": "stdout",
          "text": [
            "If case,x is positive\n",
            "Elif case,x is negetive\n",
            "Else case,x is zero\n",
            "while\n",
            "1\n",
            "2\n",
            "3\n",
            "4\n",
            "Continue when x =5\n",
            "6\n",
            "7\n",
            "8\n",
            "break when x=9\n",
            " loop\n",
            "10\n",
            "11\n",
            "12\n",
            "13\n",
            "14\n",
            "Continue when i=15\n",
            "16\n",
            "17\n",
            "break when i=18\n"
          ]
        }
      ]
    },
    {
      "cell_type": "code",
      "source": [
        "#9\n",
        "string=\"AMRITA VISHWA VIDYA PETAM IS LOCATED AT ETTIMADAI\"\n",
        "print(string)\n",
        "print(string[0])\n",
        "print(string[3:6])\n",
        "print(string[3:])\n",
        "print(string.split())"
      ],
      "metadata": {
        "colab": {
          "base_uri": "https://localhost:8080/"
        },
        "id": "qXjpEOrSNJGI",
        "outputId": "6c2ae078-3014-463b-bfdb-99575f2d0b76"
      },
      "execution_count": 7,
      "outputs": [
        {
          "output_type": "stream",
          "name": "stdout",
          "text": [
            "AMRITA VISHWA VIDYA PETAM IS LOCATED AT ETTIMADAI\n",
            "A\n",
            "ITA\n",
            "ITA VISHWA VIDYA PETAM IS LOCATED AT ETTIMADAI\n",
            "['AMRITA', 'VISHWA', 'VIDYA', 'PETAM', 'IS', 'LOCATED', 'AT', 'ETTIMADAI']\n"
          ]
        }
      ]
    },
    {
      "cell_type": "code",
      "source": [
        "#10\n",
        "import numpy as np\n",
        "list2=[1,4,5,8]\n",
        "arr = np.array(list2)\n",
        "print(\"The 1st and 2nd element of arr\",arr[0],arr[1])\n"
      ],
      "metadata": {
        "colab": {
          "base_uri": "https://localhost:8080/"
        },
        "id": "2IxOltZhVUzR",
        "outputId": "dba59993-8ff1-4f1f-96c0-c4723959fa6a"
      },
      "execution_count": 12,
      "outputs": [
        {
          "output_type": "stream",
          "name": "stdout",
          "text": [
            "The 1st and 2nd element of arr 1 4\n"
          ]
        }
      ]
    },
    {
      "cell_type": "code",
      "source": [
        "#11\n",
        "import numpy as np\n",
        "twod=np.array([[1.,2.,3.],[4.,5.,6.]])\n",
        "print(\"The 2D array :\")\n",
        "print(twod)"
      ],
      "metadata": {
        "colab": {
          "base_uri": "https://localhost:8080/"
        },
        "id": "vjVuzgyKWD3Y",
        "outputId": "69dcb9bc-2d8f-4fac-8f7d-1bf5225370aa"
      },
      "execution_count": 13,
      "outputs": [
        {
          "output_type": "stream",
          "name": "stdout",
          "text": [
            "The 2D array :\n",
            "[[1. 2. 3.]\n",
            " [4. 5. 6.]]\n"
          ]
        }
      ]
    },
    {
      "cell_type": "code",
      "source": [
        "#12\n",
        "print(\"2nd Row\",twod[1:][:])\n",
        "print(\"2nd Col\",twod[:,1])\n",
        "print(\"Length of the array :\",len(twod))"
      ],
      "metadata": {
        "colab": {
          "base_uri": "https://localhost:8080/"
        },
        "id": "H9hdykTQWDyR",
        "outputId": "a00e7712-2b64-4ce8-8186-cf67a2a57b28"
      },
      "execution_count": null,
      "outputs": [
        {
          "output_type": "stream",
          "name": "stdout",
          "text": [
            "Second Row [[4. 5. 6.]]\n",
            "Second Col [2. 5.]\n",
            "Length of the array : 2\n"
          ]
        }
      ]
    },
    {
      "cell_type": "code",
      "source": [
        "#13\n",
        "list3=[]\n",
        "for i in range(10):\n",
        "  list3.append(np.random.randint(0,100))\n",
        "oned=np.array(list3)\n",
        "print(\"1D array :\",oned)\n",
        "twod=oned.reshape(5,2)\n",
        "print(\"2D array :\\n\",twod)\n",
        "print(\"Transpose :\\n\",twod.T)"
      ],
      "metadata": {
        "colab": {
          "base_uri": "https://localhost:8080/"
        },
        "id": "bQHDT0iGYDkO",
        "outputId": "bd6bc6eb-af8f-4cd8-cfaf-73b0205e8db1"
      },
      "execution_count": null,
      "outputs": [
        {
          "output_type": "stream",
          "name": "stdout",
          "text": [
            "1D array : [43 58 23 59  2 98 62 35 94 67]\n",
            "2D array :\n",
            " [[43 58]\n",
            " [23 59]\n",
            " [ 2 98]\n",
            " [62 35]\n",
            " [94 67]]\n",
            "Transpose :\n",
            " [[43 23  2 62 94]\n",
            " [58 59 98 35 67]]\n"
          ]
        }
      ]
    },
    {
      "cell_type": "code",
      "source": [
        "#14\n",
        "l1=[1,2,3]\n",
        "l2=[4,5,6]\n",
        "l3=[7,8,9]\n",
        "newarr=np.array([l1,l2,l3])\n",
        "print(newarr)"
      ],
      "metadata": {
        "colab": {
          "base_uri": "https://localhost:8080/"
        },
        "id": "j_YWid6iZidx",
        "outputId": "4407bcb5-b656-479c-9eed-3dad2ce600f6"
      },
      "execution_count": null,
      "outputs": [
        {
          "output_type": "stream",
          "name": "stdout",
          "text": [
            "[[1 2 3]\n",
            " [4 5 6]\n",
            " [7 8 9]]\n"
          ]
        }
      ]
    },
    {
      "cell_type": "code",
      "source": [
        "#15\n",
        "arr=np.array([1,2,3])\n",
        "for i in range(len(arr)):\n",
        "  arr[i]=9\n",
        "print(arr)"
      ],
      "metadata": {
        "colab": {
          "base_uri": "https://localhost:8080/"
        },
        "id": "QD2l-5ksbxCY",
        "outputId": "e7721f0d-c1cc-464e-fc64-86b8719452f9"
      },
      "execution_count": null,
      "outputs": [
        {
          "output_type": "stream",
          "name": "stdout",
          "text": [
            "[9 9 9]\n"
          ]
        }
      ]
    },
    {
      "cell_type": "code",
      "source": [
        "#16\n",
        "arr=np.array([2,4,5])\n",
        "sum=0\n",
        "for i in arr:\n",
        "  sum+=i\n",
        "print(sum)"
      ],
      "metadata": {
        "colab": {
          "base_uri": "https://localhost:8080/"
        },
        "id": "bgY4hSv5dFf-",
        "outputId": "f3f5c66b-2ca0-450f-8b31-ec07c0553625"
      },
      "execution_count": null,
      "outputs": [
        {
          "output_type": "stream",
          "name": "stdout",
          "text": [
            "11\n"
          ]
        }
      ]
    },
    {
      "cell_type": "code",
      "source": [
        "#17\n",
        "arr=np.array([77,74,75])\n",
        "prod=1\n",
        "for i in arr:\n",
        "  prod*=i\n",
        "print(prod)"
      ],
      "metadata": {
        "colab": {
          "base_uri": "https://localhost:8080/"
        },
        "id": "OORs6PmsdQUB",
        "outputId": "eacfd3af-b935-4d97-d77a-7c7f2997bdab"
      },
      "execution_count": null,
      "outputs": [
        {
          "output_type": "stream",
          "name": "stdout",
          "text": [
            "427350\n"
          ]
        }
      ]
    },
    {
      "cell_type": "code",
      "source": [
        "#18\n",
        "arr=np.array([2,1,9,1,2,22,1,1,4,55,6,2,56])\n",
        "print(\"Mean : \",np.mean(arr))\n",
        "print(\"Varaince : \",np.var(arr))\n",
        "print(\"Max :\",np.max(arr))\n",
        "print(\"Min : \",np.min(arr))\n",
        "print(\"Argmin : \",np.argmin(arr))\n",
        "print(\"Median :\",np.median(arr))\n",
        "print(\"Argmax : \",np.argmax(arr))\n",
        "print(\"Standard Deviation : \",np.std(arr))"
      ],
      "metadata": {
        "colab": {
          "base_uri": "https://localhost:8080/"
        },
        "id": "2bQTTqQndeEB",
        "outputId": "2fab1e43-ada3-45ae-c020-23f14f879f98"
      },
      "execution_count": null,
      "outputs": [
        {
          "output_type": "stream",
          "name": "stdout",
          "text": [
            "Mean :  12.461538461538462\n",
            "Varaince :  367.32544378698225\n",
            "Max : 56\n",
            "Min :  1\n",
            "Argmin :  1\n",
            "Median : 2.0\n",
            "Argmax :  12\n",
            "Standard Deviation :  19.165736192147232\n"
          ]
        }
      ]
    },
    {
      "cell_type": "code",
      "source": [
        "#19\n",
        "arr=np.array([1, 1, 7, 5, 5, 5, 4])\n",
        "uarr=np.array(np.unique(arr))\n",
        "uarr.sort()\n",
        "print(uarr)"
      ],
      "metadata": {
        "colab": {
          "base_uri": "https://localhost:8080/"
        },
        "id": "NiVRkMcye46X",
        "outputId": "36fc3e04-f8e9-4d71-e8da-2c9593e27760"
      },
      "execution_count": null,
      "outputs": [
        {
          "output_type": "stream",
          "name": "stdout",
          "text": [
            "[1 4 5 7]\n"
          ]
        }
      ]
    },
    {
      "cell_type": "code",
      "source": [
        "#20\n",
        "m1=np.array([1,2,3])\n",
        "m2=np.array([4,5,6])\n",
        "print(np.dot(m1,m2))"
      ],
      "metadata": {
        "colab": {
          "base_uri": "https://localhost:8080/"
        },
        "id": "0rFoJLQNfyht",
        "outputId": "4c07e0b9-aea4-4ea9-dcda-84e6ae99dca0"
      },
      "execution_count": null,
      "outputs": [
        {
          "output_type": "stream",
          "name": "stdout",
          "text": [
            "32\n"
          ]
        }
      ]
    },
    {
      "cell_type": "code",
      "source": [
        "#21\n",
        "#from numpy.linalg import eig\n",
        "a=np.array([[2,12],[2,-5]])\n",
        "val,vec=np.linalg.eig(a)\n",
        "print(\"Eigen value :\",val)\n",
        "print(\"Eigen Vector :\\n\",vec)"
      ],
      "metadata": {
        "colab": {
          "base_uri": "https://localhost:8080/"
        },
        "id": "F8x-Dz57gPY5",
        "outputId": "e2d92660-586f-4302-c99a-9d1e034bc46b"
      },
      "execution_count": null,
      "outputs": [
        {
          "output_type": "stream",
          "name": "stdout",
          "text": [
            "Eigen value : [ 4.52079729 -7.52079729]\n",
            "Eigen Vector :\n",
            " [[ 0.97864042 -0.78338465]\n",
            " [ 0.20557951  0.6215372 ]]\n"
          ]
        }
      ]
    },
    {
      "cell_type": "code",
      "source": [
        "#22\n",
        "a1=np.array([11,22,11,31])\n",
        "a2=np.array([25,33,31,28])\n",
        "corrcoef=np.corrcoef(a1,a2)\n",
        "print(corrcoef)"
      ],
      "metadata": {
        "colab": {
          "base_uri": "https://localhost:8080/"
        },
        "id": "JGku38T0heU_",
        "outputId": "d010dd30-8e4d-43d6-b49b-2b73b1db172d"
      },
      "execution_count": null,
      "outputs": [
        {
          "output_type": "stream",
          "name": "stdout",
          "text": [
            "[[1.         0.15997968]\n",
            " [0.15997968 1.        ]]\n"
          ]
        }
      ]
    }
  ]
}